{
 "cells": [
  {
   "cell_type": "markdown",
   "id": "4862b9c1-5f35-4974-a852-328c1738efa3",
   "metadata": {},
   "source": [
    "# Build Week: analisi dei competitor Build Week \n",
    "\n",
    "### • Il committente è il CEO di un brand di calzature, che, in vista della prossima stagione, richiede di condurre un'analisi approfondita dei suoi competitor per quanto riguarda le collezioni di stagione, focalizzandosi principalmente sui prezzi e sulle tipologie di calzature offerti, al fine di mantenere una posizione competitiva nel mercato e a identificare opportunità per differenziarsi e soddisfare meglio le esigenze dei propri clienti. \n",
    "\n",
    "### • Vi si chiede di raccogliere informazioni dettagliate sui prezzi dei prodotti offerti sia dal brand stesso che dai principali competitor, e di esaminare le varie tipologie di calzature offerte, quali ad esempio sandali, stivali, scarpe con il tacco, eccetera. Se i dati lo consentono, dettagliare l'analisi alle sottotipologie, quali ad esempio sandali bassi, sandali con il tacco, eccetera. \n",
    "\n",
    "### • L'analisi deve includere una valutazione comparativa dei prodotti del brand rispetto a quelli dei competitor, evidenziando il numero di modelli offerti per tipologia, e le differenze di prezzo relative a tipologie e, se disponibili, sottotipologie, considerando medie, massimi, minimi. L'analisi consentirà al brand di identificare aree in cui migliorare e sviluppare strategie per mantenere o guadagnare una posizione di vantaggio nel mercato delle calzature.\n",
    "\n",
    "### • Come bonus, il CEO apprezzerebbe anche di fare una analisi sulla varietà dell'offerta riguardo taglie e/o colore rispetto ai competitor selezionati. Build Week \n",
    "\n",
    "### • Vi si chiede quindi di elaborare un rapporto completo e dettagliato dei risultati dell'analisi, evidenziando le principali conclusioni e raccomandazioni per il brand team, preferendo sempre di veicolare i risultati tramite grafici. Questo sarà uno strumento prezioso per informare le decisioni strategiche future e guidare il successo del brand nel mercato competitivo delle calzature. \n",
    "\n",
    "\n",
    "##### «Grazie per il vostro impegno e dedizione nell'aiutare il nostro brand a restare al passo con le sfide del mercato e a continuare a fornire prodotti di alta qualità ai nostri clienti!»– il CEO"
   ]
  },
  {
   "cell_type": "code",
   "execution_count": null,
   "id": "8c65760c-0a2e-4b48-b9e6-64943d3f1463",
   "metadata": {},
   "outputs": [],
   "source": []
  }
 ],
 "metadata": {
  "kernelspec": {
   "display_name": "Python [conda env:base] *",
   "language": "python",
   "name": "conda-base-py"
  },
  "language_info": {
   "codemirror_mode": {
    "name": "ipython",
    "version": 3
   },
   "file_extension": ".py",
   "mimetype": "text/x-python",
   "name": "python",
   "nbconvert_exporter": "python",
   "pygments_lexer": "ipython3",
   "version": "3.12.7"
  }
 },
 "nbformat": 4,
 "nbformat_minor": 5
}
